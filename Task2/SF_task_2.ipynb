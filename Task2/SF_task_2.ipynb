{
  "nbformat": 4,
  "nbformat_minor": 0,
  "metadata": {
    "colab": {
      "name": "SF task 2.ipynb",
      "provenance": [],
      "collapsed_sections": []
    },
    "kernelspec": {
      "name": "python3",
      "display_name": "Python 3"
    },
    "language_info": {
      "name": "python"
    }
  },
  "cells": [
    {
      "cell_type": "markdown",
      "source": [
        "**Sparks Foundation #2 task prediction using unsupervised ML**"
      ],
      "metadata": {
        "id": "2UREQvI-4r_Y"
      }
    },
    {
      "cell_type": "markdown",
      "source": [
        "**Marwan Ahmed ElAgamy**"
      ],
      "metadata": {
        "id": "PITtwpmc4zKN"
      }
    },
    {
      "cell_type": "markdown",
      "source": [
        "**1. Importing libraries**"
      ],
      "metadata": {
        "id": "ks8N3fpJ42FF"
      }
    },
    {
      "cell_type": "code",
      "execution_count": null,
      "metadata": {
        "id": "m9ltqtT_Wc5c"
      },
      "outputs": [],
      "source": [
        "import pandas as pd\n",
        "import matplotlib.pyplot as plt\n",
        "import seaborn as sns\n",
        "import numpy as np\n",
        "from sklearn import datasets\n",
        "from sklearn.cluster import KMeans\n",
        "from sklearn.metrics import accuracy_score"
      ]
    },
    {
      "cell_type": "markdown",
      "source": [
        "**2. Load Dataset**"
      ],
      "metadata": {
        "id": "09OJc9CW45oK"
      }
    },
    {
      "cell_type": "code",
      "source": [
        "df = pd.read_csv(\"Iris.csv\")\n",
        "df.head()"
      ],
      "metadata": {
        "colab": {
          "base_uri": "https://localhost:8080/",
          "height": 206
        },
        "id": "TXU8gRvRWxeQ",
        "outputId": "56680583-3f3e-4a94-ce18-dcfa6694ea0a"
      },
      "execution_count": 232,
      "outputs": [
        {
          "output_type": "execute_result",
          "data": {
            "text/plain": [
              "   Id  SepalLengthCm  SepalWidthCm  PetalLengthCm  PetalWidthCm      Species\n",
              "0   1            5.1           3.5            1.4           0.2  Iris-setosa\n",
              "1   2            4.9           3.0            1.4           0.2  Iris-setosa\n",
              "2   3            4.7           3.2            1.3           0.2  Iris-setosa\n",
              "3   4            4.6           3.1            1.5           0.2  Iris-setosa\n",
              "4   5            5.0           3.6            1.4           0.2  Iris-setosa"
            ],
            "text/html": [
              "\n",
              "  <div id=\"df-6ac45c2f-3aaf-4d45-abaf-f5b654eb8f69\">\n",
              "    <div class=\"colab-df-container\">\n",
              "      <div>\n",
              "<style scoped>\n",
              "    .dataframe tbody tr th:only-of-type {\n",
              "        vertical-align: middle;\n",
              "    }\n",
              "\n",
              "    .dataframe tbody tr th {\n",
              "        vertical-align: top;\n",
              "    }\n",
              "\n",
              "    .dataframe thead th {\n",
              "        text-align: right;\n",
              "    }\n",
              "</style>\n",
              "<table border=\"1\" class=\"dataframe\">\n",
              "  <thead>\n",
              "    <tr style=\"text-align: right;\">\n",
              "      <th></th>\n",
              "      <th>Id</th>\n",
              "      <th>SepalLengthCm</th>\n",
              "      <th>SepalWidthCm</th>\n",
              "      <th>PetalLengthCm</th>\n",
              "      <th>PetalWidthCm</th>\n",
              "      <th>Species</th>\n",
              "    </tr>\n",
              "  </thead>\n",
              "  <tbody>\n",
              "    <tr>\n",
              "      <th>0</th>\n",
              "      <td>1</td>\n",
              "      <td>5.1</td>\n",
              "      <td>3.5</td>\n",
              "      <td>1.4</td>\n",
              "      <td>0.2</td>\n",
              "      <td>Iris-setosa</td>\n",
              "    </tr>\n",
              "    <tr>\n",
              "      <th>1</th>\n",
              "      <td>2</td>\n",
              "      <td>4.9</td>\n",
              "      <td>3.0</td>\n",
              "      <td>1.4</td>\n",
              "      <td>0.2</td>\n",
              "      <td>Iris-setosa</td>\n",
              "    </tr>\n",
              "    <tr>\n",
              "      <th>2</th>\n",
              "      <td>3</td>\n",
              "      <td>4.7</td>\n",
              "      <td>3.2</td>\n",
              "      <td>1.3</td>\n",
              "      <td>0.2</td>\n",
              "      <td>Iris-setosa</td>\n",
              "    </tr>\n",
              "    <tr>\n",
              "      <th>3</th>\n",
              "      <td>4</td>\n",
              "      <td>4.6</td>\n",
              "      <td>3.1</td>\n",
              "      <td>1.5</td>\n",
              "      <td>0.2</td>\n",
              "      <td>Iris-setosa</td>\n",
              "    </tr>\n",
              "    <tr>\n",
              "      <th>4</th>\n",
              "      <td>5</td>\n",
              "      <td>5.0</td>\n",
              "      <td>3.6</td>\n",
              "      <td>1.4</td>\n",
              "      <td>0.2</td>\n",
              "      <td>Iris-setosa</td>\n",
              "    </tr>\n",
              "  </tbody>\n",
              "</table>\n",
              "</div>\n",
              "      <button class=\"colab-df-convert\" onclick=\"convertToInteractive('df-6ac45c2f-3aaf-4d45-abaf-f5b654eb8f69')\"\n",
              "              title=\"Convert this dataframe to an interactive table.\"\n",
              "              style=\"display:none;\">\n",
              "        \n",
              "  <svg xmlns=\"http://www.w3.org/2000/svg\" height=\"24px\"viewBox=\"0 0 24 24\"\n",
              "       width=\"24px\">\n",
              "    <path d=\"M0 0h24v24H0V0z\" fill=\"none\"/>\n",
              "    <path d=\"M18.56 5.44l.94 2.06.94-2.06 2.06-.94-2.06-.94-.94-2.06-.94 2.06-2.06.94zm-11 1L8.5 8.5l.94-2.06 2.06-.94-2.06-.94L8.5 2.5l-.94 2.06-2.06.94zm10 10l.94 2.06.94-2.06 2.06-.94-2.06-.94-.94-2.06-.94 2.06-2.06.94z\"/><path d=\"M17.41 7.96l-1.37-1.37c-.4-.4-.92-.59-1.43-.59-.52 0-1.04.2-1.43.59L10.3 9.45l-7.72 7.72c-.78.78-.78 2.05 0 2.83L4 21.41c.39.39.9.59 1.41.59.51 0 1.02-.2 1.41-.59l7.78-7.78 2.81-2.81c.8-.78.8-2.07 0-2.86zM5.41 20L4 18.59l7.72-7.72 1.47 1.35L5.41 20z\"/>\n",
              "  </svg>\n",
              "      </button>\n",
              "      \n",
              "  <style>\n",
              "    .colab-df-container {\n",
              "      display:flex;\n",
              "      flex-wrap:wrap;\n",
              "      gap: 12px;\n",
              "    }\n",
              "\n",
              "    .colab-df-convert {\n",
              "      background-color: #E8F0FE;\n",
              "      border: none;\n",
              "      border-radius: 50%;\n",
              "      cursor: pointer;\n",
              "      display: none;\n",
              "      fill: #1967D2;\n",
              "      height: 32px;\n",
              "      padding: 0 0 0 0;\n",
              "      width: 32px;\n",
              "    }\n",
              "\n",
              "    .colab-df-convert:hover {\n",
              "      background-color: #E2EBFA;\n",
              "      box-shadow: 0px 1px 2px rgba(60, 64, 67, 0.3), 0px 1px 3px 1px rgba(60, 64, 67, 0.15);\n",
              "      fill: #174EA6;\n",
              "    }\n",
              "\n",
              "    [theme=dark] .colab-df-convert {\n",
              "      background-color: #3B4455;\n",
              "      fill: #D2E3FC;\n",
              "    }\n",
              "\n",
              "    [theme=dark] .colab-df-convert:hover {\n",
              "      background-color: #434B5C;\n",
              "      box-shadow: 0px 1px 3px 1px rgba(0, 0, 0, 0.15);\n",
              "      filter: drop-shadow(0px 1px 2px rgba(0, 0, 0, 0.3));\n",
              "      fill: #FFFFFF;\n",
              "    }\n",
              "  </style>\n",
              "\n",
              "      <script>\n",
              "        const buttonEl =\n",
              "          document.querySelector('#df-6ac45c2f-3aaf-4d45-abaf-f5b654eb8f69 button.colab-df-convert');\n",
              "        buttonEl.style.display =\n",
              "          google.colab.kernel.accessAllowed ? 'block' : 'none';\n",
              "\n",
              "        async function convertToInteractive(key) {\n",
              "          const element = document.querySelector('#df-6ac45c2f-3aaf-4d45-abaf-f5b654eb8f69');\n",
              "          const dataTable =\n",
              "            await google.colab.kernel.invokeFunction('convertToInteractive',\n",
              "                                                     [key], {});\n",
              "          if (!dataTable) return;\n",
              "\n",
              "          const docLinkHtml = 'Like what you see? Visit the ' +\n",
              "            '<a target=\"_blank\" href=https://colab.research.google.com/notebooks/data_table.ipynb>data table notebook</a>'\n",
              "            + ' to learn more about interactive tables.';\n",
              "          element.innerHTML = '';\n",
              "          dataTable['output_type'] = 'display_data';\n",
              "          await google.colab.output.renderOutput(dataTable, element);\n",
              "          const docLink = document.createElement('div');\n",
              "          docLink.innerHTML = docLinkHtml;\n",
              "          element.appendChild(docLink);\n",
              "        }\n",
              "      </script>\n",
              "    </div>\n",
              "  </div>\n",
              "  "
            ]
          },
          "metadata": {},
          "execution_count": 232
        }
      ]
    },
    {
      "cell_type": "markdown",
      "source": [
        "**3. Exploring dataset types**"
      ],
      "metadata": {
        "id": "stlOYssP488G"
      }
    },
    {
      "cell_type": "code",
      "source": [
        "df.dtypes"
      ],
      "metadata": {
        "colab": {
          "base_uri": "https://localhost:8080/"
        },
        "id": "2S44fB3EXylH",
        "outputId": "da22ac76-ebf4-4b9a-e218-c935f8c4ba34"
      },
      "execution_count": null,
      "outputs": [
        {
          "output_type": "execute_result",
          "data": {
            "text/plain": [
              "Id                 int64\n",
              "SepalLengthCm    float64\n",
              "SepalWidthCm     float64\n",
              "PetalLengthCm    float64\n",
              "PetalWidthCm     float64\n",
              "Species           object\n",
              "dtype: object"
            ]
          },
          "metadata": {},
          "execution_count": 75
        }
      ]
    },
    {
      "cell_type": "markdown",
      "source": [
        "**4. Checking for missing data**"
      ],
      "metadata": {
        "id": "TenfvIkI4-hE"
      }
    },
    {
      "cell_type": "code",
      "source": [
        "df.isnull().values.any()"
      ],
      "metadata": {
        "colab": {
          "base_uri": "https://localhost:8080/"
        },
        "id": "t88rQsLmX77C",
        "outputId": "290fbd99-a7b7-4315-c2c5-bf2a97aeb835"
      },
      "execution_count": null,
      "outputs": [
        {
          "output_type": "execute_result",
          "data": {
            "text/plain": [
              "False"
            ]
          },
          "metadata": {},
          "execution_count": 76
        }
      ]
    },
    {
      "cell_type": "markdown",
      "source": [
        "**5. Count of each species**"
      ],
      "metadata": {
        "id": "jf_UST1X5U4o"
      }
    },
    {
      "cell_type": "code",
      "source": [
        "plt.title(\"Count of each species\")\n",
        "sns.countplot(df['Species'],label=\"Count\")"
      ],
      "metadata": {
        "colab": {
          "base_uri": "https://localhost:8080/",
          "height": 370
        },
        "id": "BL5lKfkGX-sF",
        "outputId": "0110e0c4-ba77-43db-d7b8-87bf258e975c"
      },
      "execution_count": null,
      "outputs": [
        {
          "output_type": "stream",
          "name": "stderr",
          "text": [
            "/usr/local/lib/python3.7/dist-packages/seaborn/_decorators.py:43: FutureWarning: Pass the following variable as a keyword arg: x. From version 0.12, the only valid positional argument will be `data`, and passing other arguments without an explicit keyword will result in an error or misinterpretation.\n",
            "  FutureWarning\n"
          ]
        },
        {
          "output_type": "execute_result",
          "data": {
            "text/plain": [
              "<matplotlib.axes._subplots.AxesSubplot at 0x7f764aa90950>"
            ]
          },
          "metadata": {},
          "execution_count": 77
        },
        {
          "output_type": "display_data",
          "data": {
            "text/plain": [
              "<Figure size 432x288 with 1 Axes>"
            ],
            "image/png": "[encoded data removed]"
          },
          "metadata": {
            "needs_background": "light"
          }
        }
      ]
    },
    {
      "cell_type": "markdown",
      "source": [
        "**6.1 Graph between SepalLengthCm and counts according to it's species**"
      ],
      "metadata": {
        "id": "Ix3qZbRV5d5z"
      }
    },
    {
      "cell_type": "code",
      "source": [
        "plt.figure(figsize=(20,5))\n",
        "sns.countplot(df[\"SepalLengthCm\"], hue=df[\"Species\"])\n",
        "plt.ylabel(\"Count\")\n",
        "plt.xlabel(\"SepalLengthCm\")\n",
        "plt.xticks()\n",
        "plt.title(\"Graph between SepalLengthCm and counts according to it's species\")\n",
        "plt.legend([\"setosa\",\"versicolor\",\"virginica\"])\n",
        "plt.show()"
      ],
      "metadata": {
        "colab": {
          "base_uri": "https://localhost:8080/",
          "height": 407
        },
        "id": "ecfogFvNYkpq",
        "outputId": "22e5b0e4-bc8a-499b-94b1-aa3be4be2c28"
      },
      "execution_count": null,
      "outputs": [
        {
          "output_type": "stream",
          "name": "stderr",
          "text": [
            "/usr/local/lib/python3.7/dist-packages/seaborn/_decorators.py:43: FutureWarning: Pass the following variable as a keyword arg: x. From version 0.12, the only valid positional argument will be `data`, and passing other arguments without an explicit keyword will result in an error or misinterpretation.\n",
            "  FutureWarning\n"
          ]
        },
        {
          "output_type": "display_data",
          "data": {
            "text/plain": [
              "<Figure size 1440x360 with 1 Axes>"
            ],
            "image/png": "[encoded data removed]"
          },
          "metadata": {
            "needs_background": "light"
          }
        }
      ]
    },
    {
      "cell_type": "markdown",
      "source": [
        "**6.2 Graph between SepalWidthCm and counts according to it's species**"
      ],
      "metadata": {
        "id": "bI11AnFh5kkx"
      }
    },
    {
      "cell_type": "code",
      "source": [
        "plt.figure(figsize=(20,5))\n",
        "sns.countplot(df[\"SepalWidthCm\"], hue=df[\"Species\"])\n",
        "plt.ylabel(\"Count\")\n",
        "plt.xlabel(\"SepalWidthCm\")\n",
        "plt.xticks()\n",
        "plt.title(\"Graph between SepalWidthCm and counts according to it's species\")\n",
        "plt.legend([\"setosa\",\"versicolor\",\"virginica\"])\n",
        "plt.show()"
      ],
      "metadata": {
        "colab": {
          "base_uri": "https://localhost:8080/",
          "height": 407
        },
        "id": "9nfKtucjZUGN",
        "outputId": "9373d082-be54-43f8-9150-7ffb9ba9f38d"
      },
      "execution_count": null,
      "outputs": [
        {
          "output_type": "stream",
          "name": "stderr",
          "text": [
            "/usr/local/lib/python3.7/dist-packages/seaborn/_decorators.py:43: FutureWarning: Pass the following variable as a keyword arg: x. From version 0.12, the only valid positional argument will be `data`, and passing other arguments without an explicit keyword will result in an error or misinterpretation.\n",
            "  FutureWarning\n"
          ]
        },
        {
          "output_type": "display_data",
          "data": {
            "text/plain": [
              "<Figure size 1440x360 with 1 Axes>"
            ],
            "image/png": "[encoded data removed]"
          },
          "metadata": {
            "needs_background": "light"
          }
        }
      ]
    },
    {
      "cell_type": "markdown",
      "source": [
        "**6.3 Graph between PetalLengthCm and counts according to it's species**"
      ],
      "metadata": {
        "id": "8MwvuISY5rG7"
      }
    },
    {
      "cell_type": "code",
      "source": [
        "plt.figure(figsize=(20,5))\n",
        "sns.countplot(df[\"PetalLengthCm\"], hue=df[\"Species\"])\n",
        "plt.ylabel(\"Count\")\n",
        "plt.xlabel(\"PetalLengthCm\")\n",
        "plt.xticks()\n",
        "plt.title(\"Graph between PetalLengthCm and counts according to it's species\")\n",
        "plt.legend([\"setosa\",\"versicolor\",\"virginica\"])\n",
        "plt.show()"
      ],
      "metadata": {
        "colab": {
          "base_uri": "https://localhost:8080/",
          "height": 407
        },
        "id": "bfEYRrf8ZYx0",
        "outputId": "95989870-26f7-4b7d-f5e5-22bf21322ed1"
      },
      "execution_count": null,
      "outputs": [
        {
          "output_type": "stream",
          "name": "stderr",
          "text": [
            "/usr/local/lib/python3.7/dist-packages/seaborn/_decorators.py:43: FutureWarning: Pass the following variable as a keyword arg: x. From version 0.12, the only valid positional argument will be `data`, and passing other arguments without an explicit keyword will result in an error or misinterpretation.\n",
            "  FutureWarning\n"
          ]
        },
        {
          "output_type": "display_data",
          "data": {
            "text/plain": [
              "<Figure size 1440x360 with 1 Axes>"
            ],
            "image/png": "[encoded data removed]"
          },
          "metadata": {
            "needs_background": "light"
          }
        }
      ]
    },
    {
      "cell_type": "markdown",
      "source": [
        "**6.4 Graph between PetalWidthCm and counts according to it's species**"
      ],
      "metadata": {
        "id": "DXGjjPG55uty"
      }
    },
    {
      "cell_type": "code",
      "source": [
        "plt.figure(figsize=(20,5))\n",
        "sns.countplot(df[\"PetalWidthCm\"], hue=df[\"Species\"])\n",
        "plt.ylabel(\"Count\")\n",
        "plt.xlabel(\"PetalWidthCm\")\n",
        "plt.xticks()\n",
        "plt.title(\"Graph between PetalWidthCm and counts according to it's species\")\n",
        "plt.legend([\"setosa\",\"versicolor\",\"virginica\"])\n",
        "plt.show()"
      ],
      "metadata": {
        "colab": {
          "base_uri": "https://localhost:8080/",
          "height": 407
        },
        "id": "h6RdqN-KZbHk",
        "outputId": "45b384d8-3958-49ae-8938-905537d23932"
      },
      "execution_count": null,
      "outputs": [
        {
          "output_type": "stream",
          "name": "stderr",
          "text": [
            "/usr/local/lib/python3.7/dist-packages/seaborn/_decorators.py:43: FutureWarning: Pass the following variable as a keyword arg: x. From version 0.12, the only valid positional argument will be `data`, and passing other arguments without an explicit keyword will result in an error or misinterpretation.\n",
            "  FutureWarning\n"
          ]
        },
        {
          "output_type": "display_data",
          "data": {
            "text/plain": [
              "<Figure size 1440x360 with 1 Axes>"
            ],
            "image/png": "[encoded data removed]"
          },
          "metadata": {
            "needs_background": "light"
          }
        }
      ]
    },
    {
      "cell_type": "markdown",
      "source": [
        "**7. Preprocessing**"
      ],
      "metadata": {
        "id": "IyOHdxHI5y8r"
      }
    },
    {
      "cell_type": "code",
      "source": [
        "X  = df\n",
        "y = df\n",
        "X = X.drop([\"Id\",\"Species\"],axis=1)\n",
        "y = y.drop([\"Id\",\"SepalLengthCm\",\"SepalWidthCm\",\"PetalLengthCm\",\"PetalWidthCm\"],axis=1)\n",
        "label_encoding_cols=['Species']\n",
        "for i in label_encoding_cols:\n",
        "    y[i]=y[i].astype(\"category\")\n",
        "    y[i]=y[i].cat.codes"
      ],
      "metadata": {
        "id": "Lmz8WVXRaP6c"
      },
      "execution_count": 234,
      "outputs": []
    },
    {
      "cell_type": "markdown",
      "source": [
        "**8. Determining the best clusters numbers using Elbow method**"
      ],
      "metadata": {
        "id": "C9fyc_j552YM"
      }
    },
    {
      "cell_type": "code",
      "source": [
        "SSD = []\n",
        "K = range(1,11)\n",
        "for num_clusters in K :\n",
        " kmeans = KMeans(n_clusters=num_clusters)\n",
        " kmeans.fit(X)\n",
        " SSD.append(kmeans.inertia_)\n",
        "\n",
        "plt.plot(K,SSD)\n",
        "plt.xlabel('Values of K') \n",
        "plt.ylabel('Sum of squared distances(SSD)/Inertia') \n",
        "plt.title('Elbow Method')\n",
        "plt.show()"
      ],
      "metadata": {
        "colab": {
          "base_uri": "https://localhost:8080/",
          "height": 295
        },
        "id": "fM-ZJV5cbQdj",
        "outputId": "98aea347-812f-4705-c409-485e30490844"
      },
      "execution_count": 238,
      "outputs": [
        {
          "output_type": "display_data",
          "data": {
            "text/plain": [
              "<Figure size 432x288 with 1 Axes>"
            ],
            "image/png": "[encoded data removed]"
          },
          "metadata": {
            "needs_background": "light"
          }
        }
      ]
    },
    {
      "cell_type": "markdown",
      "source": [
        "**9. K means model building**"
      ],
      "metadata": {
        "id": "NTmewfuy63aS"
      }
    },
    {
      "cell_type": "code",
      "source": [
        "k_means = KMeans(n_clusters=3,max_iter = 500,random_state=42)\n",
        "\n",
        "k_means.fit(X) \n",
        "\n",
        "k_means_pred = k_means.predict(X)\n",
        "\n",
        "print(k_means_pred)"
      ],
      "metadata": {
        "colab": {
          "base_uri": "https://localhost:8080/"
        },
        "id": "28pBrvWTmk2L",
        "outputId": "ca59e934-60d4-44a8-8e19-ba9acd7dd59f"
      },
      "execution_count": null,
      "outputs": [
        {
          "output_type": "stream",
          "name": "stdout",
          "text": [
            "[0 0 1 2 1 2 0 0 1 2 1 1 2 1 2 0 1 0 2 2 0 1 2 1 2 1 1 0 1 2 2 0 1 1 2 2 1\n",
            " 1 2 0 0 1 0 0 2 0 0 2 0 1 0 2 2 0 0 1 0 2 1 0 1 1 1 2 2 2 2 1 2 2 1 0 2 0\n",
            " 0 0 2 2 2 0 0 1 0 1 2 0 0 2 1 0 1 0 0 1 1 2 1 1 0 2 2 2 0 0 2 0 1 2 0 1 1\n",
            " 0 2 1 1 2 1 2 1 0 1 1 2 1 0 1 1 2 2 1 0 0 2 2 0 2 1 2 2 1 0 0 1 2 0 0 1 0\n",
            " 0 2]\n"
          ]
        }
      ]
    },
    {
      "cell_type": "markdown",
      "source": [
        "**10. Determining inertia**"
      ],
      "metadata": {
        "id": "J_rn1CeE7B5t"
      }
    },
    {
      "cell_type": "code",
      "source": [
        "k_means.inertia_"
      ],
      "metadata": {
        "colab": {
          "base_uri": "https://localhost:8080/"
        },
        "id": "KtvrnoRvrS75",
        "outputId": "82f0d18b-05c2-4a55-ed7b-65ecf644a1df"
      },
      "execution_count": null,
      "outputs": [
        {
          "output_type": "execute_result",
          "data": {
            "text/plain": [
              "283.60067487251115"
            ]
          },
          "metadata": {},
          "execution_count": 222
        }
      ]
    },
    {
      "cell_type": "markdown",
      "source": [
        "**11. Determining clusters centroids**"
      ],
      "metadata": {
        "id": "hmy2b2fA7GBb"
      }
    },
    {
      "cell_type": "code",
      "source": [
        "centroids = k_means.cluster_centers_\n",
        "\n",
        "print(centroids)"
      ],
      "metadata": {
        "colab": {
          "base_uri": "https://localhost:8080/"
        },
        "id": "qBKhrClCrTaF",
        "outputId": "2a9d327e-8020-4d46-e4cd-0d3d4e2eb239"
      },
      "execution_count": null,
      "outputs": [
        {
          "output_type": "stream",
          "name": "stdout",
          "text": [
            "[[-2.70146566  8.90287872]\n",
            " [-6.75399588 -6.88944874]\n",
            " [ 4.58407676  2.1431444 ]]\n"
          ]
        }
      ]
    },
    {
      "cell_type": "markdown",
      "source": [
        "**12. Clusters Visualization**"
      ],
      "metadata": {
        "id": "wcWykuW07Kmh"
      }
    },
    {
      "cell_type": "code",
      "source": [
        "plt.figure(figsize=(20,5))\n",
        "plt.scatter(X[k_means_pred==0, 0], X[k_means_pred==0, 1], s=100, c='red', label ='Iris-setosa')\n",
        "plt.scatter(X[k_means_pred==1, 0], X[k_means_pred==1, 1], s=100, c='blue', label ='Iris-versicolour')\n",
        "plt.scatter(X[k_means_pred==2, 0], X[k_means_pred==2, 1], s=100, c='green', label ='Iris-virginica')\n",
        "\n",
        "plt.scatter(centroids[:, 0], centroids[:, 1], s=300, c='yellow', label = 'Centroids')\n",
        "plt.title('Clusters Visualization')\n",
        "plt.legend()\n",
        "plt.show()"
      ],
      "metadata": {
        "colab": {
          "base_uri": "https://localhost:8080/",
          "height": 336
        },
        "id": "cmUODR9PxL7Y",
        "outputId": "5a40bb60-ceb2-45b8-d56f-5406b1038565"
      },
      "execution_count": null,
      "outputs": [
        {
          "output_type": "display_data",
          "data": {
            "text/plain": [
              "<Figure size 1440x360 with 1 Axes>"
            ],
            "image/png": "[encoded data removed]"
          },
          "metadata": {
            "needs_background": "light"
          }
        }
      ]
    },
    {
      "cell_type": "markdown",
      "source": [
        "**13. Model evalutaion**"
      ],
      "metadata": {
        "id": "qDHrIOxO7P6P"
      }
    },
    {
      "cell_type": "code",
      "source": [
        "acc_score = accuracy_score(y, k_means_pred)\n",
        "\n",
        "print(\"Accuracy of prediction = \",acc_score * 100 ,\"%\")"
      ],
      "metadata": {
        "colab": {
          "base_uri": "https://localhost:8080/"
        },
        "id": "4d4uBgIPqVI6",
        "outputId": "b08d819b-d286-43bb-c11f-ac1714ca839d"
      },
      "execution_count": null,
      "outputs": [
        {
          "output_type": "stream",
          "name": "stdout",
          "text": [
            "Accuracy of prediction =  32.0 %\n"
          ]
        }
      ]
    }
  ]
}